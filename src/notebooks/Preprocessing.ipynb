{
 "cells": [
  {
   "cell_type": "code",
   "execution_count": 1,
   "id": "isolated-basis",
   "metadata": {},
   "outputs": [],
   "source": [
    "import numpy as np\n",
    "import pandas as pd\n",
    "import matplotlib.pyplot as plt"
   ]
  },
  {
   "cell_type": "code",
   "execution_count": 2,
   "id": "excessive-victory",
   "metadata": {},
   "outputs": [],
   "source": [
    "from sklearn.preprocessing import StandardScaler, MinMaxScaler, MaxAbsScaler\n",
    "from sklearn.decomposition import PCA\n",
    "from sklearn.random_projection import GaussianRandomProjection, SparseRandomProjection\n",
    "from sklearn.cluster import FeatureAgglomeration"
   ]
  },
  {
   "cell_type": "code",
   "execution_count": 3,
   "id": "handed-organic",
   "metadata": {},
   "outputs": [],
   "source": [
    "from sklearn.svm import SVC"
   ]
  },
  {
   "cell_type": "code",
   "execution_count": 4,
   "id": "typical-export",
   "metadata": {},
   "outputs": [],
   "source": [
    "from sklearn.model_selection import train_test_split\n",
    "from sklearn.metrics import confusion_matrix"
   ]
  },
  {
   "cell_type": "code",
   "execution_count": 5,
   "id": "fancy-fitness",
   "metadata": {},
   "outputs": [],
   "source": [
    "s_names = [\n",
    "    'standard',\n",
    "    'min max',\n",
    "    'max abs',\n",
    "    'none'\n",
    "]"
   ]
  },
  {
   "cell_type": "code",
   "execution_count": 6,
   "id": "suffering-knitting",
   "metadata": {},
   "outputs": [],
   "source": [
    "scalers = [\n",
    "    StandardScaler(),\n",
    "    MinMaxScaler(),\n",
    "    MaxAbsScaler(),\n",
    "    None\n",
    "]"
   ]
  },
  {
   "cell_type": "code",
   "execution_count": 7,
   "id": "focused-christopher",
   "metadata": {},
   "outputs": [],
   "source": [
    "d_names = [\n",
    "    'pca',\n",
    "    'rand proj gaussian',\n",
    "    'rand proj sparse',\n",
    "    'feature agglomeration',\n",
    "    'none'\n",
    "]"
   ]
  },
  {
   "cell_type": "code",
   "execution_count": 8,
   "id": "fossil-environment",
   "metadata": {},
   "outputs": [],
   "source": [
    "data = pd.read_csv('../data/keypoints.csv',header=None,names=['label']+list(np.arange(42)))"
   ]
  },
  {
   "cell_type": "code",
   "execution_count": 9,
   "id": "worse-summer",
   "metadata": {},
   "outputs": [],
   "source": [
    "# extract features, labels\n",
    "X = data[list(np.arange(2,42))].to_numpy()\n",
    "y = data['label'].to_numpy()"
   ]
  },
  {
   "cell_type": "code",
   "execution_count": 10,
   "id": "cognitive-aviation",
   "metadata": {},
   "outputs": [],
   "source": [
    "# split train test\n",
    "X_train, X_test, y_train, y_test = train_test_split(\n",
    "    X, y, test_size=0.25, random_state=42\n",
    ")"
   ]
  },
  {
   "cell_type": "code",
   "execution_count": 11,
   "id": "considerable-involvement",
   "metadata": {},
   "outputs": [],
   "source": [
    "model = SVC(C=1, gamma=32)"
   ]
  },
  {
   "cell_type": "code",
   "execution_count": 12,
   "id": "substantial-reminder",
   "metadata": {},
   "outputs": [],
   "source": [
    "preds = []\n",
    "scores = []\n",
    "\n",
    "for s in scalers:\n",
    "    if s is not None:\n",
    "        X_train_ = s.fit_transform(X_train)\n",
    "        X_test_ = s.transform(X_test)\n",
    "    else: # compare to no scaling\n",
    "        X_train_ = X_train\n",
    "        X_test_ = X_test\n",
    "    \n",
    "    for n_comp in range(2,6):\n",
    "        dr = [\n",
    "            PCA(n_components=n_comp),\n",
    "            GaussianRandomProjection(n_components=n_comp),\n",
    "            SparseRandomProjection(n_components=n_comp),\n",
    "            FeatureAgglomeration(n_clusters=n_comp),\n",
    "            None\n",
    "            ]\n",
    "        \n",
    "        for d in dr:\n",
    "            if d is not None:\n",
    "                X_train_1 = d.fit_transform(X_train_)\n",
    "                X_test_1 = d.transform(X_test_)\n",
    "            else:\n",
    "                X_train_1 = X_train_\n",
    "                X_test_1 = X_test_\n",
    "\n",
    "            model.fit(X_train_1, y_train)\n",
    "            pred = model.predict(X_test_1)\n",
    "            preds.append(pred)\n",
    "\n",
    "            score = model.score(X_test_1, y_test)\n",
    "            scores.append(score)"
   ]
  },
  {
   "cell_type": "code",
   "execution_count": 13,
   "id": "skilled-tonight",
   "metadata": {},
   "outputs": [],
   "source": [
    "scores = np.array(scores).reshape(4,4,5) # scaler, n_components, dimension reducer"
   ]
  },
  {
   "cell_type": "code",
   "execution_count": 14,
   "id": "organizational-peninsula",
   "metadata": {},
   "outputs": [
    {
     "data": {
      "text/plain": [
       "Text(0, 0.5, 'accuracy')"
      ]
     },
     "execution_count": 14,
     "metadata": {},
     "output_type": "execute_result"
    }
   ],
   "source": [
    "f,axs=plt.subplots(2,2,sharex=True,sharey=True,figsize=(14,8))\n",
    "pd.DataFrame(scores[:,0,:],index=s_names,columns=d_names).plot.bar(ax=axs[0,0],title='ndim=2',legend=False)\n",
    "pd.DataFrame(scores[:,1,:],index=s_names,columns=d_names).plot.bar(ax=axs[0,1],title='ndim=3',legend=False)\n",
    "pd.DataFrame(scores[:,2,:],index=s_names,columns=d_names).plot.bar(ax=axs[1,0],title='ndim=4',legend=False)\n",
    "pd.DataFrame(scores[:,3,:],index=s_names,columns=d_names).plot.bar(ax=axs[1,1],title='ndim=5',legend=False)\n",
    "plt.legend(bbox_to_anchor=(1.05, 1.3))\n",
    "axs[0,0].set_ylabel('accuracy')\n",
    "axs[1,0].set_ylabel('accuracy')"
   ]
  },
  {
   "cell_type": "code",
   "execution_count": 15,
   "id": "scientific-nature",
   "metadata": {},
   "outputs": [],
   "source": [
    "ax=pd.DataFrame(scores.max(axis=1),index=s_names,columns=d_names).plot.bar(title='Max Over Reduced Dim',legend=False,figsize=(14,5))\n",
    "plt.legend(bbox_to_anchor=(1.02,1))\n",
    "plt.ylabel('accuracy')\n",
    "for p,i in zip(ax.patches,(scores.argmax(axis=1)+2).T.flatten()):\n",
    "    ax.annotate(str(i), (p.get_x() * 1.015, p.get_height() * 1.01))"
   ]
  },
  {
   "cell_type": "code",
   "execution_count": 16,
   "id": "ultimate-fields",
   "metadata": {},
   "outputs": [
    {
     "data": {
      "text/plain": [
       "0.9423013517969008"
      ]
     },
     "execution_count": 16,
     "metadata": {},
     "output_type": "execute_result"
    }
   ],
   "source": [
    "scores[1][3][2] # min-max, 5 components, randproj sparse"
   ]
  }
 ],
 "metadata": {
  "kernelspec": {
   "display_name": "442",
   "language": "python",
   "name": "442"
  },
  "language_info": {
   "codemirror_mode": {
    "name": "ipython",
    "version": 3
   },
   "file_extension": ".py",
   "mimetype": "text/x-python",
   "name": "python",
   "nbconvert_exporter": "python",
   "pygments_lexer": "ipython3",
   "version": "3.7.11"
  }
 },
 "nbformat": 4,
 "nbformat_minor": 5
}
